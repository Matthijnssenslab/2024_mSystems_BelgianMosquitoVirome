{
 "cells": [
  {
   "cell_type": "code",
   "execution_count": 21,
   "id": "10bae546-4294-4399-b325-3cb84d511518",
   "metadata": {},
   "outputs": [
    {
     "name": "stderr",
     "output_type": "stream",
     "text": [
      "\n",
      "Attaching package: ‘gridExtra’\n",
      "\n",
      "\n",
      "The following object is masked from ‘package:dplyr’:\n",
      "\n",
      "    combine\n",
      "\n",
      "\n"
     ]
    }
   ],
   "source": [
    "library(ggpubr)\n",
    "library(gridExtra)\n",
    "library(tidyverse)"
   ]
  },
  {
   "cell_type": "code",
   "execution_count": 1,
   "id": "7d5e59a3-a4ff-4c86-acab-93fbc00cc206",
   "metadata": {},
   "outputs": [
    {
     "name": "stderr",
     "output_type": "stream",
     "text": [
      "Warning message:\n",
      "“‘timedatectl’ indicates the non-existent timezone name ‘n/a’”\n",
      "Warning message:\n",
      "“Your system is mis-configured: ‘/etc/localtime’ is not a symlink”\n",
      "Warning message:\n",
      "“It is strongly recommended to set envionment variable TZ to ‘Europe/Brussels’ (or equivalent)”\n",
      "── \u001b[1mAttaching packages\u001b[22m ───────────────────────────────────────────────────────────────────────────────────────────────────────────────────────────────────────────────────────────────────────────────────────────────────────────────────── tidyverse 1.3.2 ──\n",
      "\u001b[32m✔\u001b[39m \u001b[34mggplot2\u001b[39m 3.4.0      \u001b[32m✔\u001b[39m \u001b[34mpurrr  \u001b[39m 0.3.5 \n",
      "\u001b[32m✔\u001b[39m \u001b[34mtibble \u001b[39m 3.1.8      \u001b[32m✔\u001b[39m \u001b[34mdplyr  \u001b[39m 1.0.10\n",
      "\u001b[32m✔\u001b[39m \u001b[34mtidyr  \u001b[39m 1.2.1      \u001b[32m✔\u001b[39m \u001b[34mstringr\u001b[39m 1.5.0 \n",
      "\u001b[32m✔\u001b[39m \u001b[34mreadr  \u001b[39m 2.1.3      \u001b[32m✔\u001b[39m \u001b[34mforcats\u001b[39m 0.5.2 \n",
      "── \u001b[1mConflicts\u001b[22m ──────────────────────────────────────────────────────────────────────────────────────────────────────────────────────────────────────────────────────────────────────────────────────────────────────────────────────── tidyverse_conflicts() ──\n",
      "\u001b[31m✖\u001b[39m \u001b[34mdplyr\u001b[39m::\u001b[32mfilter()\u001b[39m masks \u001b[34mstats\u001b[39m::filter()\n",
      "\u001b[31m✖\u001b[39m \u001b[34mdplyr\u001b[39m::\u001b[32mlag()\u001b[39m    masks \u001b[34mstats\u001b[39m::lag()\n"
     ]
    },
    {
     "data": {
      "text/html": [
       "<style>\n",
       ".list-inline {list-style: none; margin:0; padding: 0}\n",
       ".list-inline>li {display: inline-block}\n",
       ".list-inline>li:not(:last-child)::after {content: \"\\00b7\"; padding: 0 .5ex}\n",
       "</style>\n",
       "<ol class=list-inline><li>'MEMO005'</li><li>'MEMO078'</li><li>'NEMO46'</li><li>'MEMO141'</li><li>'NEMO42'</li><li>'MEMO085'</li><li>'MEMO073'</li><li>'NEMO35'</li><li>'MEMO108'</li><li>'MEMO139'</li><li>'MEMO057'</li><li>'MEMO056'</li><li>'MEMO105'</li><li>'MEMO129'</li><li>'MEMO100'</li><li>'MEMO043'</li></ol>\n"
      ],
      "text/latex": [
       "\\begin{enumerate*}\n",
       "\\item 'MEMO005'\n",
       "\\item 'MEMO078'\n",
       "\\item 'NEMO46'\n",
       "\\item 'MEMO141'\n",
       "\\item 'NEMO42'\n",
       "\\item 'MEMO085'\n",
       "\\item 'MEMO073'\n",
       "\\item 'NEMO35'\n",
       "\\item 'MEMO108'\n",
       "\\item 'MEMO139'\n",
       "\\item 'MEMO057'\n",
       "\\item 'MEMO056'\n",
       "\\item 'MEMO105'\n",
       "\\item 'MEMO129'\n",
       "\\item 'MEMO100'\n",
       "\\item 'MEMO043'\n",
       "\\end{enumerate*}\n"
      ],
      "text/markdown": [
       "1. 'MEMO005'\n",
       "2. 'MEMO078'\n",
       "3. 'NEMO46'\n",
       "4. 'MEMO141'\n",
       "5. 'NEMO42'\n",
       "6. 'MEMO085'\n",
       "7. 'MEMO073'\n",
       "8. 'NEMO35'\n",
       "9. 'MEMO108'\n",
       "10. 'MEMO139'\n",
       "11. 'MEMO057'\n",
       "12. 'MEMO056'\n",
       "13. 'MEMO105'\n",
       "14. 'MEMO129'\n",
       "15. 'MEMO100'\n",
       "16. 'MEMO043'\n",
       "\n",
       "\n"
      ],
      "text/plain": [
       " [1] \"MEMO005\" \"MEMO078\" \"NEMO46\"  \"MEMO141\" \"NEMO42\"  \"MEMO085\" \"MEMO073\"\n",
       " [8] \"NEMO35\"  \"MEMO108\" \"MEMO139\" \"MEMO057\" \"MEMO056\" \"MEMO105\" \"MEMO129\"\n",
       "[15] \"MEMO100\" \"MEMO043\""
      ]
     },
     "metadata": {},
     "output_type": "display_data"
    }
   ],
   "source": [
    "#args = commandArgs(trailingOnly=TRUE)\n",
    "args <- readLines(\"coverage-plots.txt\")\n",
    "args"
   ]
  },
  {
   "cell_type": "code",
   "execution_count": 2,
   "id": "5fd3e8a8-814a-492e-b11c-2bd564269e77",
   "metadata": {},
   "outputs": [],
   "source": [
    "#df_merged <- read.table(paste0(\"bowtie/\",args[1],\".bowtie.depth\"), header = T)\n",
    "phageblast <- read.table(\"phage_blast.tsv\", header=F, sep=\"\\t\")\n",
    "phageblast <- phageblast[phageblast$V4 > 2000,]\n",
    "\n",
    "rRNA <- data.frame(name=c(\"16S\", \"23S\", \"5S\"),\n",
    "  start=c(1136001, 1235938, 1238768),\n",
    "  end=c(1137446, 1238682, 1238878)\n",
    ")\n",
    "\n",
    "prophage <- data.frame(\n",
    "  name=c(\"p1\", \"p2\", \"p3\", \"p4\", \"p5\"),\n",
    "  start=c(250652, 320006, 346157, 444716, 1376656),\n",
    "  end=c(266846, 337904, 360657, 483289, 1413160)\n",
    ")"
   ]
  },
  {
   "cell_type": "code",
   "execution_count": 3,
   "id": "a9404b50-a3f6-48e9-a8c9-671d7bbef1a4",
   "metadata": {},
   "outputs": [],
   "source": [
    "df_list <- list()\n",
    "\n",
    "for (file in args) {\n",
    "  # Read the TSV file into a data frame\n",
    "  df <- read.table(paste0(\"bowtie/\",file,\".bowtie.depth\"), header=TRUE, sep=\"\\t\")\n",
    "  \n",
    "  # Append the data frame to the list\n",
    "  df_list[[file]] <- df\n",
    "}\n",
    "\n",
    "df_merged <- Reduce(function(x, y) merge(x, y, by=c(\"strain\", \"pos\"), all=TRUE), df_list)"
   ]
  },
  {
   "cell_type": "code",
   "execution_count": 42,
   "id": "c69dec4c-a2c5-4686-8316-a6ab2107aa23",
   "metadata": {
    "tags": []
   },
   "outputs": [],
   "source": [
    "g <- lapply(args, function(sample) {\n",
    "    \n",
    "    if (max(df_list[[sample]][3])<1000){\n",
    "\n",
    "        ggplot(df_list[[sample]], aes_string(x=\"pos\", y=sample))+\n",
    "                geom_line()+\n",
    "                geom_rect(data = phageblast, inherit.aes=FALSE, aes(xmin=V9, xmax=V10, ymin=-max(df_list[[sample]][3])*0.066, ymax=-max(df_list[[sample]][3])*0.043,\n",
    "                                                                  fill=\"#3977AF\", color=\"#3977AF\"), alpha=1)+\n",
    "                geom_rect(data = rRNA, inherit.aes=FALSE, aes(xmin=start, xmax=end, ymin=-max(df_list[[sample]][3])*0.036, ymax=-max(df_list[[sample]][3])*0.012,\n",
    "                                                                  fill=\"red\", color=\"red\"), alpha=1)+\n",
    "                geom_rect(data = prophage, inherit.aes=FALSE, aes(xmin=start, xmax=end, ymin=-max(df_list[[sample]][3])*0.036, ymax=-max(df_list[[sample]][3])*0.012,\n",
    "                                                                    fill=\"limegreen\", color=\"limegreen\"), alpha=1)+\n",
    "                labs(x=\"Nucleotide position\", y=\"Read depth\")+\n",
    "                ggtitle(sample)+\n",
    "                scale_fill_identity(name = \"\",\n",
    "                                    breaks = c(\"#3977AF\", \"limegreen\", \"red\"),\n",
    "                                    labels = c(\"phageWO prophage region (BLASTn)\", \"prophage regions (Genbank)\", \"rRNA genes\"),\n",
    "                                    guide = \"legend\")+\n",
    "                scale_color_identity(name = \"\",\n",
    "                                    #breaks = c(\"#3977AF\", \"red\"),\n",
    "                                    #labels = c(\"phageWO prophage region\", \"rRNA genes\"),\n",
    "                                    guide = \"none\",#\"legend\"\n",
    "                                    )+\n",
    "                theme_bw()+\n",
    "                theme(legend.position = \"top\", \n",
    "                      legend.background=element_rect(fill=NA, color=NA),\n",
    "                      legend.margin = margin(t = 0, r = 0, b = 0, l = 0, unit='cm'),\n",
    "                      legend.key.size = unit(3, 'mm'),\n",
    "                      plot.title = element_text(size=9, face=\"bold\"),\n",
    "                      aspect.ratio=5/7.5,\n",
    "                      #panel.grid.major = element_line(size = .25),\n",
    "                      panel.grid=element_blank())+\n",
    "                guides(fill = guide_legend(override.aes = list(alpha = 1)))\n",
    "        }\n",
    "    else {\n",
    "        ggplot(df_list[[sample]], aes_string(x=\"pos\", y=sample))+\n",
    "                    geom_line()+\n",
    "                    geom_rect(data = phageblast, inherit.aes=FALSE, aes(xmin=V9, xmax=V10, ymin=-1000*0.066, ymax=-1000*0.043,\n",
    "                                                                      fill=\"#3977AF\", color=\"#3977AF\"), alpha=1)+\n",
    "                    geom_rect(data = rRNA, inherit.aes=FALSE, aes(xmin=start, xmax=end, ymin=-1000*0.036, ymax=-1000*0.012,\n",
    "                                                                      fill=\"red\", color=\"red\"), alpha=1)+\n",
    "                    geom_rect(data = prophage, inherit.aes=FALSE, aes(xmin=start, xmax=end, ymin=-1000*0.036, ymax=-1000*0.012,\n",
    "                                                                        fill=\"limegreen\", color=\"limegreen\"), alpha=1)+\n",
    "                    labs(x=\"Nucleotide position\", y=\"Read depth\")+\n",
    "                    ggtitle(sample)+\n",
    "                    scale_fill_identity(name = \"\",\n",
    "                                        breaks = c(\"#3977AF\", \"limegreen\", \"red\"),\n",
    "                                        labels = c(\"phageWO prophage region (BLASTn)\", \"prophage regions (Genbank)\", \"rRNA genes\"),\n",
    "                                        guide = \"legend\")+\n",
    "                    scale_color_identity(name = \"\",\n",
    "                                        #breaks = c(\"#3977AF\", \"red\"),\n",
    "                                        #labels = c(\"phageWO prophage region\", \"rRNA genes\"),\n",
    "                                        guide = \"none\",#\"legend\"\n",
    "                                        )+\n",
    "                    scale_y_continuous(limits=c(NA,1000))+\n",
    "                    theme_bw()+\n",
    "                    theme(legend.position = \"top\", \n",
    "                          legend.background=element_rect(fill=NA, color=NA),\n",
    "                          legend.margin = margin(t = 0, r = 0, b = 0, l = 0, unit='cm'),\n",
    "                          legend.key.size = unit(3, 'mm'),\n",
    "                          plot.title = element_text(size=9, face=\"bold\"),\n",
    "                          aspect.ratio=5/7.5,\n",
    "                          #panel.grid.major = element_line(size = .25),\n",
    "                          panel.grid=element_blank())+\n",
    "                    guides(fill = guide_legend(override.aes = list(alpha = 1)))\n",
    "        }\n",
    "    })"
   ]
  },
  {
   "cell_type": "code",
   "execution_count": 43,
   "id": "61661a8b-d348-469c-b80a-1f40c4294708",
   "metadata": {},
   "outputs": [],
   "source": [
    "p <- ggarrange(plotlist = g, ncol = 4, nrow=4, common.legend=T)"
   ]
  },
  {
   "cell_type": "code",
   "execution_count": 45,
   "id": "bc7900f3-c1b3-4fe7-8e1f-d1a595521326",
   "metadata": {},
   "outputs": [],
   "source": [
    "ggsave(file=\"test.png\", plot=p, dpi=300, height=10, width=15)"
   ]
  },
  {
   "cell_type": "markdown",
   "id": "c80bcc93-ac44-4676-877b-3637e48562a3",
   "metadata": {},
   "source": [
    "--------"
   ]
  },
  {
   "cell_type": "code",
   "execution_count": null,
   "id": "f57dfbc8-4612-4b0d-9e5b-987a739b8909",
   "metadata": {},
   "outputs": [],
   "source": [
    "plotlist <- list()\n",
    "count <- 0\n",
    "max <- c()\n",
    "for (sample in args){\n",
    "    count <- count+1\n",
    "    max[[count]] <- max(df_list[[sample]][3])\n",
    "\n",
    "    plotlist[[sample]] <- ggplot(df_list[[sample]], aes_string(x=\"pos\", y=sample))+\n",
    "        geom_line()+\n",
    "        geom_rect(data = phageblast, inherit.aes=FALSE, aes(xmin=V9, xmax=V10, ymin=-max[[count]]*0.066, ymax=-max[[count]]*0.043,\n",
    "                                                          fill=\"#3977AF\", color=\"#3977AF\"), alpha=1)+\n",
    "        geom_rect(data = rRNA, inherit.aes=FALSE, aes(xmin=start, xmax=end, ymin=-max[[count]]*0.036, ymax=-max[[count]]*0.012,\n",
    "                                                          fill=\"red\", color=\"red\"), alpha=1)+\n",
    "        geom_rect(data = prophage, inherit.aes=FALSE, aes(xmin=start, xmax=end, ymin=-max[[count]]*0.036, ymax=-max[[count]]*0.012),\n",
    "                                                            fill=\"limegreen\", color=\"limegreen\"), alpha=1)+\n",
    "        labs(x=\"Nucleotide position\", y=\"Read depth\")+\n",
    "        ggtitle(sample)+\n",
    "        scale_fill_identity(name = \"\",\n",
    "                            breaks = c(\"#3977AF\", \"limegreen\", \"red\"),\n",
    "                            labels = c(\"phageWO prophage region (BLASTn)\", \"prophage regions (Genbank)\", \"rRNA genes\"),\n",
    "                            guide = \"legend\")+\n",
    "        scale_color_identity(name = \"\",\n",
    "                            #breaks = c(\"#3977AF\", \"red\"),\n",
    "                            #labels = c(\"phageWO prophage region\", \"rRNA genes\"),\n",
    "                            guide = \"none\",#\"legend\"\n",
    "                            )+\n",
    "        theme_bw()+\n",
    "        theme(legend.position = \"top\", \n",
    "              legend.background=element_rect(fill=NA, color=NA),\n",
    "              legend.margin = margin(t = 0, r = 0, b = 0, l = 0, unit='cm'),\n",
    "              legend.key.size = unit(3, 'mm'),\n",
    "              plot.title = element_text(size=9, face=\"bold\"),\n",
    "              aspect.ratio=5/7.5,\n",
    "              #panel.grid.major = element_line(size = .25),\n",
    "              panel.grid=element_blank())+\n",
    "        guides(fill = guide_legend(override.aes = list(alpha = 1)))\n",
    "}"
   ]
  },
  {
   "cell_type": "code",
   "execution_count": null,
   "id": "c075b284-a3f4-48de-8d91-6e43f15364cb",
   "metadata": {
    "tags": []
   },
   "outputs": [],
   "source": [
    "for (sample in args) {\n",
    "    ggsave(paste0(sample,\"-covplot.pdf\"), plotlist[[sample]], dpi=300, width = 7.5, height=5)\n",
    "}"
   ]
  },
  {
   "cell_type": "code",
   "execution_count": null,
   "id": "4ff32a1a-1ed4-4b51-b513-e12e575cbddf",
   "metadata": {},
   "outputs": [],
   "source": [
    "for (sample in args) {\n",
    "    print(max(df_list[[sample]][3]))\n",
    "}"
   ]
  },
  {
   "cell_type": "code",
   "execution_count": 10,
   "id": "70afb5b8-c81d-47eb-99c1-131837746a11",
   "metadata": {},
   "outputs": [],
   "source": [
    "for (file in args) {\n",
    "    df_list[[file]][\"ymax\"] <- max(df_list[[file]][3])\n",
    "    }"
   ]
  },
  {
   "cell_type": "code",
   "execution_count": 6,
   "id": "b95c5a03-cdc0-47e2-b742-cc3811945621",
   "metadata": {},
   "outputs": [],
   "source": [
    "df_merged <- df_merged %>%\n",
    "    pivot_longer(cols = \"MEMO005\":\"MEMO043\", names_to=\"Sample\", values_to = \"coverage\")"
   ]
  },
  {
   "cell_type": "code",
   "execution_count": 18,
   "id": "8a1b11b0-dc21-4845-91fc-09ebaa3cb5aa",
   "metadata": {},
   "outputs": [],
   "source": [
    "df_merged <- df_merged %>%\n",
    "    group_by(Sample) %>%\n",
    "    summarise(max = max(coverage)) %>%\n",
    "    left_join(df_merged, by=\"Sample\")"
   ]
  },
  {
   "cell_type": "markdown",
   "id": "14bce33a-1009-4415-b541-59ce80ed2d26",
   "metadata": {},
   "source": [
    "#df_merged$Sample <- fct_reorder(df_merged, data$y)"
   ]
  },
  {
   "cell_type": "code",
   "execution_count": null,
   "id": "5981e1fc-c951-462e-b98b-c360fbb1d88e",
   "metadata": {},
   "outputs": [],
   "source": [
    "df_merged %>%\n",
    "    ggplot(aes(x=pos, y=coverage))+\n",
    "    facet_wrap(~Sample, ncol = 2, scales = \"free_y\")+\n",
    "    geom_line()+\n",
    "    geom_rect(data = phageblast, inherit.aes=FALSE, aes(xmin=V9, xmax=V10, ymin=-max(df_merged[3])*0.066, ymax=-max(df_merged[3])*0.043,\n",
    "                                                      fill=\"#3977AF\", color=\"#3977AF\"), alpha=1)+\n",
    "    geom_rect(data = rRNA, inherit.aes=FALSE, aes(xmin=start, xmax=end, ymin=-max(df_merged[3])*0.036, ymax=-max(df_merged[3])*0.012,\n",
    "                                                      fill=\"red\", color=\"red\"), alpha=1)+\n",
    "    geom_rect(data = prophage, inherit.aes=FALSE, aes(xmin=start, xmax=end, ymin=-max(df_merged[3])*0.036, ymax=-max(df_merged[3])*0.012,\n",
    "                                                        fill=\"limegreen\", color=\"limegreen\"), alpha=1)+\n",
    "    labs(x=\"Nucleotide position\", y=\"Read depth\")+\n",
    "    #ggtitle(Sample)+\n",
    "    scale_fill_identity(name = \"\",\n",
    "                        breaks = c(\"#3977AF\", \"limegreen\", \"red\"),\n",
    "                        labels = c(\"phageWO prophage region (BLASTn)\", \"prophage regions (Genbank)\", \"rRNA genes\"),\n",
    "                        guide = \"legend\")+\n",
    "    scale_color_identity(name = \"\",\n",
    "                        #breaks = c(\"#3977AF\", \"red\"),\n",
    "                        #labels = c(\"phageWO prophage region\", \"rRNA genes\"),\n",
    "                        guide = \"none\",#\"legend\"\n",
    "                        )+\n",
    "    theme_bw()+\n",
    "    theme(legend.position = \"top\", \n",
    "          legend.background=element_rect(fill=NA, color=NA),\n",
    "          legend.margin = margin(t = 0, r = 0, b = 0, l = 0, unit='cm'),\n",
    "          legend.key.size = unit(3, 'mm'),\n",
    "          plot.title = element_text(size=9, face=\"bold\"),\n",
    "          #aspect.ratio=5/7.5,\n",
    "          #panel.grid.major = element_line(size = .25),\n",
    "          panel.grid=element_blank())+\n",
    "    guides(fill = guide_legend(override.aes = list(alpha = 1)))"
   ]
  },
  {
   "cell_type": "code",
   "execution_count": 21,
   "id": "325f164a-6e66-4b76-86c9-8455af1e889a",
   "metadata": {},
   "outputs": [],
   "source": [
    "covplot <- ggplot(df_merged, aes(x=pos, y=MEMO005))+\n",
    "  geom_line()+\n",
    "  geom_rect(data = phageblast, inherit.aes=FALSE, aes(xmin=V9, xmax=V10, ymin=-max(df_merged[3])*0.066, ymax=-max(df_merged[3])*0.043,\n",
    "                                                      fill=\"#3977AF\", color=\"#3977AF\"), alpha=1)+\n",
    "  geom_rect(data = rRNA, inherit.aes=FALSE, aes(xmin=start, xmax=end, ymin=-max(df_merged[3])*0.036, ymax=-max(df_merged[3])*0.012,\n",
    "                                                      fill=\"red\", color=\"red\"), alpha=1)+\n",
    "  geom_rect(data = prophage, inherit.aes=FALSE, aes(xmin=start, xmax=end, ymin=-max(df_merged[3])*0.036, ymax=-max(df_merged[3])*0.012,\n",
    "                                                      fill=\"limegreen\", color=\"limegreen\"), alpha=1)+\n",
    "  labs(x=\"Nucleotide position\", y=\"Read depth\")+\n",
    "  ggtitle(args[1])+\n",
    "  scale_fill_identity(name = \"\",\n",
    "                      breaks = c(\"#3977AF\", \"limegreen\", \"red\"),\n",
    "                      labels = c(\"phageWO prophage region (BLASTn)\", \"prophage regions (Genbank)\", \"rRNA genes\"),\n",
    "                      guide = \"legend\")+\n",
    "  scale_color_identity(name = \"\",\n",
    "                      #breaks = c(\"#3977AF\", \"red\"),\n",
    "                      #labels = c(\"phageWO prophage region\", \"rRNA genes\"),\n",
    "                      guide = \"none\",#\"legend\"\n",
    "                      )+\n",
    "  theme_bw()+\n",
    "  theme(legend.position = \"top\", \n",
    "        legend.background=element_rect(fill=NA, color=NA),\n",
    "        legend.margin = margin(t = 0, r = 0, b = 0, l = 0, unit='cm'),\n",
    "        legend.key.size = unit(3, 'mm'),\n",
    "        plot.title = element_text(size=9, face=\"bold\"),\n",
    "        aspect.ratio=5/7.5,\n",
    "        #panel.grid.major = element_line(size = .25),\n",
    "        panel.grid=element_blank())+\n",
    "  guides(fill = guide_legend(override.aes = list(alpha = 1)))"
   ]
  },
  {
   "cell_type": "code",
   "execution_count": 22,
   "id": "d38f439a-d53d-4455-bbac-99a25202ce8b",
   "metadata": {},
   "outputs": [
    {
     "data": {
      "image/png": "[encoded data removed]",
      "text/plain": [
       "plot without title"
      ]
     },
     "metadata": {
      "image/png": {
       "height": 420,
       "width": 420
      }
     },
     "output_type": "display_data"
    }
   ],
   "source": [
    "covplot"
   ]
  },
  {
   "cell_type": "code",
   "execution_count": null,
   "id": "8a0af024-3f60-4b6b-b2c9-a015f5c7287f",
   "metadata": {},
   "outputs": [],
   "source": [
    "covplot <- ggplot(df_merged, aes_string(x = \"pos\", y=names(df_merged[3])))+\n",
    "  geom_line()+\n",
    "  geom_rect(data = phageblast, inherit.aes=FALSE, aes(xmin=V9, xmax=V10, ymin=-max(df_merged[3])*0.066, ymax=-max(df_merged[3])*0.043,\n",
    "                                                      fill=\"#3977AF\", color=\"#3977AF\"), alpha=1)+\n",
    "  geom_rect(data = rRNA, inherit.aes=FALSE, aes(xmin=start, xmax=end, ymin=-max(df_merged[3])*0.036, ymax=-max(df_merged[3])*0.012,\n",
    "                                                      fill=\"red\", color=\"red\"), alpha=1)+\n",
    "  geom_rect(data = prophage, inherit.aes=FALSE, aes(xmin=start, xmax=end, ymin=-max(df_merged[3])*0.036, ymax=-max(df_merged[3])*0.012,\n",
    "                                                      fill=\"limegreen\", color=\"limegreen\"), alpha=1)+\n",
    "  labs(x=\"Nucleotide position\", y=\"Read depth\")+\n",
    "  ggtitle(args[1])+\n",
    "  scale_fill_identity(name = \"\",\n",
    "                      breaks = c(\"#3977AF\", \"limegreen\", \"red\"),\n",
    "                      labels = c(\"phageWO prophage region (BLASTn)\", \"prophage regions (Genbank)\", \"rRNA genes\"),\n",
    "                      guide = \"legend\")+\n",
    "  scale_color_identity(name = \"\",\n",
    "                      #breaks = c(\"#3977AF\", \"red\"),\n",
    "                      #labels = c(\"phageWO prophage region\", \"rRNA genes\"),\n",
    "                      guide = \"none\",#\"legend\"\n",
    "                      )+\n",
    "  theme_bw()+\n",
    "  theme(legend.position = \"top\", \n",
    "        legend.background=element_rect(fill=NA, color=NA),\n",
    "        legend.margin = margin(t = 0, r = 0, b = 0, l = 0, unit='cm'),\n",
    "        legend.key.size = unit(3, 'mm'),\n",
    "        plot.title = element_text(size=9, face=\"bold\"),\n",
    "        #panel.grid.major = element_line(size = .25),\n",
    "        panel.grid=element_blank())+\n",
    "  guides(fill = guide_legend(override.aes = list(alpha = 1)))\n",
    "\n",
    "ggsave(paste0(args[1],\"-covplot.pdf\"), covplot, dpi=300, width = 7.5, height=5)"
   ]
  }
 ],
 "metadata": {
  "kernelspec": {
   "display_name": "R",
   "language": "R",
   "name": "ir"
  },
  "language_info": {
   "codemirror_mode": "r",
   "file_extension": ".r",
   "mimetype": "text/x-r-source",
   "name": "R",
   "pygments_lexer": "r",
   "version": "4.2.2"
  }
 },
 "nbformat": 4,
 "nbformat_minor": 5
}
